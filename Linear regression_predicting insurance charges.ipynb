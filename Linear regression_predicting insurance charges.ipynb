{
 "cells": [
  {
   "cell_type": "code",
   "execution_count": 72,
   "id": "81a07c66-a3d4-4fdd-9c3c-7b3a19b80d62",
   "metadata": {
    "executionCancelledAt": null,
    "executionTime": 15,
    "lastExecutedAt": 1717231297308,
    "lastExecutedByKernel": "275ff988-49c2-4e55-a3ca-3dd74326eaa1",
    "lastScheduledRunId": null,
    "lastSuccessfullyExecutedCode": "# Import required libraries\nimport pandas as pd\nimport numpy as np\nimport seaborn as sns\nimport matplotlib.pyplot as plt\nfrom sklearn.preprocessing import StandardScaler\nfrom sklearn.linear_model import LinearRegression\nfrom sklearn.model_selection import cross_val_score, KFold",
    "outputsMetadata": {
     "0": {
      "height": 193,
      "type": "dataFrame"
     }
    }
   },
   "outputs": [],
   "source": [
    "# Import required libraries\n",
    "import pandas as pd\n",
    "import numpy as np\n",
    "import seaborn as sns\n",
    "import matplotlib.pyplot as plt\n",
    "from sklearn.preprocessing import StandardScaler\n",
    "from sklearn.linear_model import LinearRegression\n",
    "from sklearn.model_selection import cross_val_score"
   ]
  },
  {
   "cell_type": "code",
   "execution_count": 73,
   "id": "a143c3b2-1ff1-47a0-8fc6-662b8b19dbf1",
   "metadata": {
    "executionCancelledAt": null,
    "executionTime": 49,
    "lastExecutedAt": 1717231297357,
    "lastExecutedByKernel": "275ff988-49c2-4e55-a3ca-3dd74326eaa1",
    "lastScheduledRunId": null,
    "lastSuccessfullyExecutedCode": "# Load the dataset\ninsurance_data_path = 'insurance.csv'\ninsurance = pd.read_csv(insurance_data_path)"
   },
   "outputs": [],
   "source": [
    "# Load the dataset\n",
    "insurance_data_path = 'insurance.csv'\n",
    "insurance = pd.read_csv(insurance_data_path)"
   ]
  },
  {
   "cell_type": "code",
   "execution_count": 74,
   "id": "dbe1bb40-a892-4993-aca4-07449c6e059f",
   "metadata": {
    "executionCancelledAt": null,
    "executionTime": 64,
    "lastExecutedAt": 1717231297423,
    "lastExecutedByKernel": "275ff988-49c2-4e55-a3ca-3dd74326eaa1",
    "lastScheduledRunId": null,
    "lastSuccessfullyExecutedCode": "# Inspect first few lines of the dataset\ninsurance.head()",
    "outputsMetadata": {
     "0": {
      "height": 193,
      "type": "dataFrame"
     }
    }
   },
   "outputs": [
    {
     "data": {
      "text/html": [
       "<div>\n",
       "<style scoped>\n",
       "    .dataframe tbody tr th:only-of-type {\n",
       "        vertical-align: middle;\n",
       "    }\n",
       "\n",
       "    .dataframe tbody tr th {\n",
       "        vertical-align: top;\n",
       "    }\n",
       "\n",
       "    .dataframe thead th {\n",
       "        text-align: right;\n",
       "    }\n",
       "</style>\n",
       "<table border=\"1\" class=\"dataframe\">\n",
       "  <thead>\n",
       "    <tr style=\"text-align: right;\">\n",
       "      <th></th>\n",
       "      <th>age</th>\n",
       "      <th>sex</th>\n",
       "      <th>bmi</th>\n",
       "      <th>children</th>\n",
       "      <th>smoker</th>\n",
       "      <th>region</th>\n",
       "      <th>charges</th>\n",
       "    </tr>\n",
       "  </thead>\n",
       "  <tbody>\n",
       "    <tr>\n",
       "      <th>0</th>\n",
       "      <td>19.0</td>\n",
       "      <td>female</td>\n",
       "      <td>27.900</td>\n",
       "      <td>0.0</td>\n",
       "      <td>yes</td>\n",
       "      <td>southwest</td>\n",
       "      <td>16884.924</td>\n",
       "    </tr>\n",
       "    <tr>\n",
       "      <th>1</th>\n",
       "      <td>18.0</td>\n",
       "      <td>male</td>\n",
       "      <td>33.770</td>\n",
       "      <td>1.0</td>\n",
       "      <td>no</td>\n",
       "      <td>Southeast</td>\n",
       "      <td>1725.5523</td>\n",
       "    </tr>\n",
       "    <tr>\n",
       "      <th>2</th>\n",
       "      <td>28.0</td>\n",
       "      <td>male</td>\n",
       "      <td>33.000</td>\n",
       "      <td>3.0</td>\n",
       "      <td>no</td>\n",
       "      <td>southeast</td>\n",
       "      <td>$4449.462</td>\n",
       "    </tr>\n",
       "    <tr>\n",
       "      <th>3</th>\n",
       "      <td>33.0</td>\n",
       "      <td>male</td>\n",
       "      <td>22.705</td>\n",
       "      <td>0.0</td>\n",
       "      <td>no</td>\n",
       "      <td>northwest</td>\n",
       "      <td>$21984.47061</td>\n",
       "    </tr>\n",
       "    <tr>\n",
       "      <th>4</th>\n",
       "      <td>32.0</td>\n",
       "      <td>male</td>\n",
       "      <td>28.880</td>\n",
       "      <td>0.0</td>\n",
       "      <td>no</td>\n",
       "      <td>northwest</td>\n",
       "      <td>$3866.8552</td>\n",
       "    </tr>\n",
       "  </tbody>\n",
       "</table>\n",
       "</div>"
      ],
      "text/plain": [
       "    age     sex     bmi  children smoker     region       charges\n",
       "0  19.0  female  27.900       0.0    yes  southwest     16884.924\n",
       "1  18.0    male  33.770       1.0     no  Southeast     1725.5523\n",
       "2  28.0    male  33.000       3.0     no  southeast     $4449.462\n",
       "3  33.0    male  22.705       0.0     no  northwest  $21984.47061\n",
       "4  32.0    male  28.880       0.0     no  northwest    $3866.8552"
      ]
     },
     "execution_count": 74,
     "metadata": {},
     "output_type": "execute_result"
    }
   ],
   "source": [
    "# Inspect first few lines of the dataset\n",
    "insurance.head()"
   ]
  },
  {
   "cell_type": "code",
   "execution_count": 75,
   "id": "38f875a8-af79-4b0a-86a2-de8587049f3c",
   "metadata": {
    "executionCancelledAt": null,
    "executionTime": 61,
    "lastExecutedAt": 1717231297484,
    "lastExecutedByKernel": "275ff988-49c2-4e55-a3ca-3dd74326eaa1",
    "lastScheduledRunId": null,
    "lastSuccessfullyExecutedCode": "# Check dataset structure, data types, and missing values\ninsurance.info()",
    "outputsMetadata": {
     "0": {
      "height": 311,
      "type": "stream"
     }
    }
   },
   "outputs": [
    {
     "name": "stdout",
     "output_type": "stream",
     "text": [
      "<class 'pandas.core.frame.DataFrame'>\n",
      "RangeIndex: 1338 entries, 0 to 1337\n",
      "Data columns (total 7 columns):\n",
      " #   Column    Non-Null Count  Dtype  \n",
      "---  ------    --------------  -----  \n",
      " 0   age       1272 non-null   float64\n",
      " 1   sex       1272 non-null   object \n",
      " 2   bmi       1272 non-null   float64\n",
      " 3   children  1272 non-null   float64\n",
      " 4   smoker    1272 non-null   object \n",
      " 5   region    1272 non-null   object \n",
      " 6   charges   1284 non-null   object \n",
      "dtypes: float64(3), object(4)\n",
      "memory usage: 73.3+ KB\n"
     ]
    }
   ],
   "source": [
    "# Check dataset structure, data types, and missing values\n",
    "insurance.info()"
   ]
  },
  {
   "cell_type": "code",
   "execution_count": 76,
   "id": "43767eb7-ac23-4a2d-a56c-0cda5fca8fa9",
   "metadata": {
    "executionCancelledAt": null,
    "executionTime": 55,
    "lastExecutedAt": 1717231297539,
    "lastExecutedByKernel": "275ff988-49c2-4e55-a3ca-3dd74326eaa1",
    "lastScheduledRunId": null,
    "lastSuccessfullyExecutedCode": "# Check common descriptive statistics for numerical variables\ninsurance.describe()",
    "outputsMetadata": {
     "0": {
      "height": 267,
      "type": "dataFrame"
     }
    }
   },
   "outputs": [
    {
     "data": {
      "text/html": [
       "<div>\n",
       "<style scoped>\n",
       "    .dataframe tbody tr th:only-of-type {\n",
       "        vertical-align: middle;\n",
       "    }\n",
       "\n",
       "    .dataframe tbody tr th {\n",
       "        vertical-align: top;\n",
       "    }\n",
       "\n",
       "    .dataframe thead th {\n",
       "        text-align: right;\n",
       "    }\n",
       "</style>\n",
       "<table border=\"1\" class=\"dataframe\">\n",
       "  <thead>\n",
       "    <tr style=\"text-align: right;\">\n",
       "      <th></th>\n",
       "      <th>age</th>\n",
       "      <th>bmi</th>\n",
       "      <th>children</th>\n",
       "    </tr>\n",
       "  </thead>\n",
       "  <tbody>\n",
       "    <tr>\n",
       "      <th>count</th>\n",
       "      <td>1272.000000</td>\n",
       "      <td>1272.000000</td>\n",
       "      <td>1272.000000</td>\n",
       "    </tr>\n",
       "    <tr>\n",
       "      <th>mean</th>\n",
       "      <td>35.214623</td>\n",
       "      <td>30.560550</td>\n",
       "      <td>0.948899</td>\n",
       "    </tr>\n",
       "    <tr>\n",
       "      <th>std</th>\n",
       "      <td>22.478251</td>\n",
       "      <td>6.095573</td>\n",
       "      <td>1.303532</td>\n",
       "    </tr>\n",
       "    <tr>\n",
       "      <th>min</th>\n",
       "      <td>-64.000000</td>\n",
       "      <td>15.960000</td>\n",
       "      <td>-4.000000</td>\n",
       "    </tr>\n",
       "    <tr>\n",
       "      <th>25%</th>\n",
       "      <td>24.750000</td>\n",
       "      <td>26.180000</td>\n",
       "      <td>0.000000</td>\n",
       "    </tr>\n",
       "    <tr>\n",
       "      <th>50%</th>\n",
       "      <td>38.000000</td>\n",
       "      <td>30.210000</td>\n",
       "      <td>1.000000</td>\n",
       "    </tr>\n",
       "    <tr>\n",
       "      <th>75%</th>\n",
       "      <td>51.000000</td>\n",
       "      <td>34.485000</td>\n",
       "      <td>2.000000</td>\n",
       "    </tr>\n",
       "    <tr>\n",
       "      <th>max</th>\n",
       "      <td>64.000000</td>\n",
       "      <td>53.130000</td>\n",
       "      <td>5.000000</td>\n",
       "    </tr>\n",
       "  </tbody>\n",
       "</table>\n",
       "</div>"
      ],
      "text/plain": [
       "               age          bmi     children\n",
       "count  1272.000000  1272.000000  1272.000000\n",
       "mean     35.214623    30.560550     0.948899\n",
       "std      22.478251     6.095573     1.303532\n",
       "min     -64.000000    15.960000    -4.000000\n",
       "25%      24.750000    26.180000     0.000000\n",
       "50%      38.000000    30.210000     1.000000\n",
       "75%      51.000000    34.485000     2.000000\n",
       "max      64.000000    53.130000     5.000000"
      ]
     },
     "execution_count": 76,
     "metadata": {},
     "output_type": "execute_result"
    }
   ],
   "source": [
    "# Check common descriptive statistics for numerical variables\n",
    "insurance.describe()"
   ]
  },
  {
   "cell_type": "code",
   "execution_count": 77,
   "id": "81b920ea-c60f-4c32-9e40-c70b86a8c944",
   "metadata": {
    "executionCancelledAt": null,
    "executionTime": 353,
    "lastExecutedAt": 1717231297893,
    "lastExecutedByKernel": "275ff988-49c2-4e55-a3ca-3dd74326eaa1",
    "lastScheduledRunId": null,
    "lastSuccessfullyExecutedCode": "# Create a heatmap to visualize missing values\nsns.heatmap(insurance.isna(), cbar=False, cmap=\"viridis\")\nplt.title(\"Heatmap of missing values in insurance dataset\")\nplt.show()"
   },
   "outputs": [
    {
     "data": {
      "image/png": "[encoded data removed]",
      "text/plain": [
       "<Figure size 640x480 with 1 Axes>"
      ]
     },
     "metadata": {},
     "output_type": "display_data"
    }
   ],
   "source": [
    "# Create a heatmap to visualize missing values\n",
    "sns.heatmap(insurance.isna(), cbar=False, cmap=\"viridis\")\n",
    "plt.title(\"Heatmap of missing values in insurance dataset\")\n",
    "plt.show()"
   ]
  },
  {
   "cell_type": "code",
   "execution_count": 78,
   "id": "72697e6c-5b4a-4d2d-b8e7-2efa1ae5aa81",
   "metadata": {
    "executionCancelledAt": null,
    "executionTime": 49,
    "lastExecutedAt": 1717231297942,
    "lastExecutedByKernel": "275ff988-49c2-4e55-a3ca-3dd74326eaa1",
    "lastScheduledRunId": null,
    "lastSuccessfullyExecutedCode": "# Remove rows with missing data\ninsurance = insurance.dropna()"
   },
   "outputs": [],
   "source": [
    "# Remove rows with missing data\n",
    "insurance = insurance.dropna()"
   ]
  },
  {
   "cell_type": "code",
   "execution_count": 79,
   "id": "338210b2-da25-4fe3-9287-7b8059c47e0b",
   "metadata": {
    "executionCancelledAt": null,
    "executionTime": 52,
    "lastExecutedAt": 1717231297994,
    "lastExecutedByKernel": "275ff988-49c2-4e55-a3ca-3dd74326eaa1",
    "lastScheduledRunId": null,
    "lastSuccessfullyExecutedCode": "# Discard rows where age is negative and set children value to 0 when negative\ninsurance = insurance[insurance[\"age\"] > 0]\ninsurance.loc[insurance[\"children\"] < 0, \"children\"] = 0"
   },
   "outputs": [],
   "source": [
    "# Discard rows where age is negative and set children value to 0 when negative\n",
    "insurance = insurance[insurance[\"age\"] > 0]\n",
    "insurance.loc[insurance[\"children\"] < 0, \"children\"] = 0"
   ]
  },
  {
   "cell_type": "code",
   "execution_count": 80,
   "id": "4b139f67-ecf8-466f-a8a6-7b79ad467119",
   "metadata": {
    "executionCancelledAt": null,
    "executionTime": 51,
    "lastExecutedAt": 1717231298045,
    "lastExecutedByKernel": "275ff988-49c2-4e55-a3ca-3dd74326eaa1",
    "lastScheduledRunId": null,
    "lastSuccessfullyExecutedCode": "# Streamline format in column charges by removing '$' and converting to float\ninsurance['charges'] = insurance['charges'].str.strip('$').astype('float')",
    "outputsMetadata": {
     "0": {
      "height": 267,
      "type": "dataFrame"
     }
    }
   },
   "outputs": [],
   "source": [
    "# Streamline format in column charges by removing '$' and converting to float\n",
    "insurance['charges'] = insurance['charges'].str.strip('$').astype('float')"
   ]
  },
  {
   "cell_type": "code",
   "execution_count": 81,
   "id": "d6e38403-5a84-4406-a3ea-d5c9f428793a",
   "metadata": {
    "executionCancelledAt": null,
    "executionTime": 49,
    "lastExecutedAt": 1717231298094,
    "lastExecutedByKernel": "275ff988-49c2-4e55-a3ca-3dd74326eaa1",
    "lastScheduledRunId": null,
    "lastSuccessfullyExecutedCode": "# Check categories in column sex\ninsurance['sex'].unique()"
   },
   "outputs": [
    {
     "data": {
      "text/plain": [
       "array(['female', 'male', 'woman', 'F', 'man', 'M'], dtype=object)"
      ]
     },
     "execution_count": 81,
     "metadata": {},
     "output_type": "execute_result"
    }
   ],
   "source": [
    "# Check categories in column sex\n",
    "insurance['sex'].unique()"
   ]
  },
  {
   "cell_type": "code",
   "execution_count": 82,
   "id": "f8caa618-b10a-4647-b38f-39f74940eb20",
   "metadata": {
    "executionCancelledAt": null,
    "executionTime": 48,
    "lastExecutedAt": 1717231298142,
    "lastExecutedByKernel": "275ff988-49c2-4e55-a3ca-3dd74326eaa1",
    "lastScheduledRunId": null,
    "lastSuccessfullyExecutedCode": "# Replace values in column sex to keep only 2 categories: female and male\nreplacement_dict = {\n    'woman':'female',\n    'F': 'female',\n    'man':'male',\n    'M':'male'\n}\n\ninsurance['sex'] = insurance['sex'].replace(replacement_dict)"
   },
   "outputs": [],
   "source": [
    "# Replace values in column sex to keep only 2 categories: female and male\n",
    "replacement_dict = {\n",
    "    'woman':'female',\n",
    "    'F': 'female',\n",
    "    'man':'male',\n",
    "    'M':'male'\n",
    "}\n",
    "\n",
    "insurance['sex'] = insurance['sex'].replace(replacement_dict)"
   ]
  },
  {
   "cell_type": "code",
   "execution_count": 83,
   "id": "5fb53317-b003-4620-880f-9834a6b5d570",
   "metadata": {
    "executionCancelledAt": null,
    "executionTime": 52,
    "lastExecutedAt": 1717231298194,
    "lastExecutedByKernel": "275ff988-49c2-4e55-a3ca-3dd74326eaa1",
    "lastScheduledRunId": null,
    "lastSuccessfullyExecutedCode": "# Check categories in column smoker\ninsurance['smoker'].unique()",
    "outputsMetadata": {
     "0": {
      "height": 119,
      "type": "dataFrame"
     }
    }
   },
   "outputs": [
    {
     "data": {
      "text/plain": [
       "array(['yes', 'no'], dtype=object)"
      ]
     },
     "execution_count": 83,
     "metadata": {},
     "output_type": "execute_result"
    }
   ],
   "source": [
    "# Check categories in column smoker\n",
    "insurance['smoker'].unique()"
   ]
  },
  {
   "cell_type": "code",
   "execution_count": 84,
   "id": "d52e1016-61e3-4f09-84c9-519632eb42c8",
   "metadata": {
    "executionCancelledAt": null,
    "executionTime": 53,
    "lastExecutedAt": 1717231298247,
    "lastExecutedByKernel": "275ff988-49c2-4e55-a3ca-3dd74326eaa1",
    "lastScheduledRunId": null,
    "lastSuccessfullyExecutedCode": "# Check categories in column region\ninsurance['region'].unique()"
   },
   "outputs": [
    {
     "data": {
      "text/plain": [
       "array(['southwest', 'Southeast', 'southeast', 'northwest', 'Northwest',\n",
       "       'Northeast', 'northeast', 'Southwest'], dtype=object)"
      ]
     },
     "execution_count": 84,
     "metadata": {},
     "output_type": "execute_result"
    }
   ],
   "source": [
    "# Check categories in column region\n",
    "insurance['region'].unique()"
   ]
  },
  {
   "cell_type": "code",
   "execution_count": 85,
   "id": "f8a354bc-4804-4806-bdd1-41a39587aa76",
   "metadata": {
    "executionCancelledAt": null,
    "executionTime": 55,
    "lastExecutedAt": 1717231298302,
    "lastExecutedByKernel": "275ff988-49c2-4e55-a3ca-3dd74326eaa1",
    "lastScheduledRunId": null,
    "lastSuccessfullyExecutedCode": "# Streamline format in column region by converting values to lowercase\ninsurance['region'] = insurance['region'].str.lower()"
   },
   "outputs": [],
   "source": [
    "# Streamline format in column region by converting values to lowercase\n",
    "insurance['region'] = insurance['region'].str.lower()"
   ]
  },
  {
   "cell_type": "code",
   "execution_count": 86,
   "id": "ca0b237b-a537-4dcd-a28b-33967e298758",
   "metadata": {
    "executionCancelledAt": null,
    "executionTime": 54,
    "lastExecutedAt": 1717231298357,
    "lastExecutedByKernel": "275ff988-49c2-4e55-a3ca-3dd74326eaa1",
    "lastScheduledRunId": null,
    "lastSuccessfullyExecutedCode": "# Define features and dependent variable for the model\nX = insurance.drop('charges', axis=1)\ny = insurance['charges']\n\n# Define categorical and numerical features\ncategorical_features = ['sex', 'smoker', 'region']\nnumerical_features = ['age', 'bmi', 'children']\n\n# Convert categorical features to dummy variables\nX = pd.get_dummies(X, columns=categorical_features, drop_first=True)\n\n# Scale numerical features\nscaler = StandardScaler()\nX[numerical_features] = scaler.fit_transform(X[numerical_features])"
   },
   "outputs": [],
   "source": [
    "# Define features and dependent variable for the model\n",
    "X = insurance.drop('charges', axis=1)\n",
    "y = insurance['charges']\n",
    "\n",
    "# Define categorical and numerical features\n",
    "categorical_features = ['sex', 'smoker', 'region']\n",
    "numerical_features = ['age', 'bmi', 'children']\n",
    "\n",
    "# Convert categorical features to dummy variables\n",
    "X = pd.get_dummies(X, columns=categorical_features, drop_first=True)\n",
    "\n",
    "# Scale numerical features\n",
    "scaler = StandardScaler()\n",
    "X[numerical_features] = scaler.fit_transform(X[numerical_features])"
   ]
  },
  {
   "cell_type": "code",
   "execution_count": 87,
   "id": "feb60301-bdb7-4227-b028-f3b18b7bf6cf",
   "metadata": {
    "executionCancelledAt": null,
    "executionTime": 51,
    "lastExecutedAt": 1717231298410,
    "lastExecutedByKernel": "275ff988-49c2-4e55-a3ca-3dd74326eaa1",
    "lastScheduledRunId": null,
    "lastSuccessfullyExecutedCode": "# Instantiate linear regression model\nlinreg = LinearRegression()\n\n# Fit the model and perform cross_validation\nr2_scores = cross_val_score(linreg, X, y, cv=5, scoring='r2')\nr2_score = np.mean(r2_scores)\nprint(r2_score)",
    "outputsMetadata": {
     "0": {
      "height": 38,
      "type": "stream"
     }
    }
   },
   "outputs": [
    {
     "name": "stdout",
     "output_type": "stream",
     "text": [
      "0.7450511466263763\n"
     ]
    }
   ],
   "source": [
    "# Instantiate linear regression model\n",
    "linreg = LinearRegression()\n",
    "\n",
    "# Fit the model and perform cross_validation\n",
    "linreg.fit(X, y)\n",
    "r2_scores = cross_val_score(linreg, X, y, cv=5, scoring='r2')\n",
    "r2_score = np.mean(r2_scores)\n",
    "print(r2_score)"
   ]
  },
  {
   "cell_type": "code",
   "execution_count": 88,
   "id": "0893f5c3-9d43-418b-a3aa-e5d3aa45619b",
   "metadata": {
    "executionCancelledAt": null,
    "executionTime": 51,
    "lastExecutedAt": 1717231298461,
    "lastExecutedByKernel": "275ff988-49c2-4e55-a3ca-3dd74326eaa1",
    "lastScheduledRunId": null,
    "lastSuccessfullyExecutedCode": "# Apply the model to estimate predicted_charges for unseen data \nvalidation_data = pd.read_csv('validation_dataset.csv')\nvalidation_data_processed = pd.get_dummies(validation_data, columns=categorical_features, drop_first=True)\nvalidation_data_processed[numerical_features] = scaler.fit_transform(validation_data_processed[numerical_features])\nvalidation_predictions = insurance_model.predict(validation_data_processed)         ",
    "outputsMetadata": {
     "0": {
      "height": 193,
      "type": "dataFrame"
     }
    }
   },
   "outputs": [],
   "source": [
    "# Apply the model to estimate predicted_charges for unseen data \n",
    "validation_data = pd.read_csv('validation_dataset.csv')\n",
    "validation_data_processed = pd.get_dummies(validation_data, columns=categorical_features, drop_first=True)\n",
    "validation_data_processed[numerical_features] = scaler.fit_transform(validation_data_processed[numerical_features])\n",
    "validation_predictions = linreg.predict(validation_data_processed)    "
   ]
  },
  {
   "cell_type": "code",
   "execution_count": 89,
   "id": "58be00b5-ff54-47ee-bf0d-1c7e9fa040e2",
   "metadata": {
    "executionCancelledAt": null,
    "executionTime": 68,
    "lastExecutedAt": 1717231298531,
    "lastExecutedByKernel": "275ff988-49c2-4e55-a3ca-3dd74326eaa1",
    "lastScheduledRunId": null,
    "lastSuccessfullyExecutedCode": "validation_data['predicted_charges'] = validation_predictions\n# Adjust predictions to ensure minimum charge is $1000\nvalidation_data.loc[validation_data['predicted_charges'] < 1000, 'predicted_charges'] = 1000\nvalidation_data.head()",
    "outputsMetadata": {
     "0": {
      "height": 210,
      "type": "dataFrame"
     }
    }
   },
   "outputs": [
    {
     "data": {
      "text/html": [
       "<div>\n",
       "<style scoped>\n",
       "    .dataframe tbody tr th:only-of-type {\n",
       "        vertical-align: middle;\n",
       "    }\n",
       "\n",
       "    .dataframe tbody tr th {\n",
       "        vertical-align: top;\n",
       "    }\n",
       "\n",
       "    .dataframe thead th {\n",
       "        text-align: right;\n",
       "    }\n",
       "</style>\n",
       "<table border=\"1\" class=\"dataframe\">\n",
       "  <thead>\n",
       "    <tr style=\"text-align: right;\">\n",
       "      <th></th>\n",
       "      <th>age</th>\n",
       "      <th>sex</th>\n",
       "      <th>bmi</th>\n",
       "      <th>children</th>\n",
       "      <th>smoker</th>\n",
       "      <th>region</th>\n",
       "      <th>predicted_charges</th>\n",
       "    </tr>\n",
       "  </thead>\n",
       "  <tbody>\n",
       "    <tr>\n",
       "      <th>0</th>\n",
       "      <td>18.0</td>\n",
       "      <td>female</td>\n",
       "      <td>24.090000</td>\n",
       "      <td>1.0</td>\n",
       "      <td>no</td>\n",
       "      <td>southeast</td>\n",
       "      <td>1255.405000</td>\n",
       "    </tr>\n",
       "    <tr>\n",
       "      <th>1</th>\n",
       "      <td>39.0</td>\n",
       "      <td>male</td>\n",
       "      <td>26.410000</td>\n",
       "      <td>0.0</td>\n",
       "      <td>yes</td>\n",
       "      <td>northeast</td>\n",
       "      <td>29588.117779</td>\n",
       "    </tr>\n",
       "    <tr>\n",
       "      <th>2</th>\n",
       "      <td>27.0</td>\n",
       "      <td>male</td>\n",
       "      <td>29.150000</td>\n",
       "      <td>0.0</td>\n",
       "      <td>yes</td>\n",
       "      <td>southeast</td>\n",
       "      <td>27077.976556</td>\n",
       "    </tr>\n",
       "    <tr>\n",
       "      <th>3</th>\n",
       "      <td>71.0</td>\n",
       "      <td>male</td>\n",
       "      <td>65.502135</td>\n",
       "      <td>13.0</td>\n",
       "      <td>yes</td>\n",
       "      <td>southeast</td>\n",
       "      <td>40306.211530</td>\n",
       "    </tr>\n",
       "    <tr>\n",
       "      <th>4</th>\n",
       "      <td>28.0</td>\n",
       "      <td>male</td>\n",
       "      <td>38.060000</td>\n",
       "      <td>0.0</td>\n",
       "      <td>no</td>\n",
       "      <td>southeast</td>\n",
       "      <td>4283.061597</td>\n",
       "    </tr>\n",
       "  </tbody>\n",
       "</table>\n",
       "</div>"
      ],
      "text/plain": [
       "    age     sex        bmi  children smoker     region  predicted_charges\n",
       "0  18.0  female  24.090000       1.0     no  southeast        1255.405000\n",
       "1  39.0    male  26.410000       0.0    yes  northeast       29588.117779\n",
       "2  27.0    male  29.150000       0.0    yes  southeast       27077.976556\n",
       "3  71.0    male  65.502135      13.0    yes  southeast       40306.211530\n",
       "4  28.0    male  38.060000       0.0     no  southeast        4283.061597"
      ]
     },
     "execution_count": 89,
     "metadata": {},
     "output_type": "execute_result"
    }
   ],
   "source": [
    "# Create column to store predictions (insurance charges) and adjust predictions to ensure minimum charge is $1000 \n",
    "validation_data['predicted_charges'] = validation_predictions\n",
    "validation_data.loc[validation_data['predicted_charges'] < 1000, 'predicted_charges'] = 1000\n",
    "validation_data.head()"
   ]
  }
 ],
 "metadata": {
  "colab": {
   "name": "Welcome to DataCamp Workspaces.ipynb",
   "provenance": []
  },
  "kernelspec": {
   "display_name": "Python 3 (ipykernel)",
   "language": "python",
   "name": "python3"
  },
  "language_info": {
   "codemirror_mode": {
    "name": "ipython",
    "version": 3
   },
   "file_extension": ".py",
   "mimetype": "text/x-python",
   "name": "python",
   "nbconvert_exporter": "python",
   "pygments_lexer": "ipython3",
   "version": "3.11.5"
  }
 },
 "nbformat": 4,
 "nbformat_minor": 5
}
